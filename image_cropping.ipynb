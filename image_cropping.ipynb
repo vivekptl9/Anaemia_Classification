{
 "cells": [
  {
   "cell_type": "code",
   "execution_count": 12,
   "metadata": {},
   "outputs": [],
   "source": [
    "import pandas as pd\n",
    "import numpy as np\n",
    "import shutil as sht\n",
    "import os\n",
    "import cv2"
   ]
  },
  {
   "cell_type": "code",
   "execution_count": 33,
   "metadata": {},
   "outputs": [],
   "source": [
    "# import pandas as pd\n",
    "# import numpy as np\n",
    "# #from sklearn.preprocessing import OneHotEncoder\n",
    "# import matplotlib.pyplot as plt\n",
    "# #from sklearn.impute import SimpleImputer\n",
    "# #import tensorflow as tf\n",
    "# import cv2\n",
    "# # Step 1: reshape the image\n",
    "# images1='/home/lepton/Desktop/Anaemia.tiff'\n",
    "# img = plt.imread(images1)\n",
    "# #img=img/255.\n",
    "# #print(img.shape)\n",
    "# img = cv2.resize(img, dsize=(224,224))\n",
    "# plt.imshow(img)\n",
    "#print(img.shape)"
   ]
  },
  {
   "cell_type": "code",
   "execution_count": 34,
   "metadata": {},
   "outputs": [],
   "source": [
    "# cv2.imwrite(\"/home/lepton/Desktop/Anemia_rescaled.png\",img)"
   ]
  },
  {
   "cell_type": "code",
   "execution_count": 36,
   "metadata": {},
   "outputs": [],
   "source": [
    "# a=cv2.imread(\"/home/lepton/Desktop/Anemia_rescaled.png\")"
   ]
  },
  {
   "cell_type": "code",
   "execution_count": null,
   "metadata": {},
   "outputs": [],
   "source": []
  }
 ],
 "metadata": {
  "kernelspec": {
   "display_name": "Python 3.8.12 64-bit ('Anaemia_Classification')",
   "language": "python",
   "name": "python3"
  },
  "language_info": {
   "codemirror_mode": {
    "name": "ipython",
    "version": 3
   },
   "file_extension": ".py",
   "mimetype": "text/x-python",
   "name": "python",
   "nbconvert_exporter": "python",
   "pygments_lexer": "ipython3",
   "version": "3.8.12"
  },
  "orig_nbformat": 4,
  "vscode": {
   "interpreter": {
    "hash": "2945526d00e73559431dc1d9d3d9b7f33a8ba8c7337808a6c17938c264564385"
   }
  }
 },
 "nbformat": 4,
 "nbformat_minor": 2
}
