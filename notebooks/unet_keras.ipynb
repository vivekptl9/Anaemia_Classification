{
 "cells": [
  {
   "cell_type": "code",
   "execution_count": 1,
   "metadata": {},
   "outputs": [],
   "source": [
    "from tensorflow.keras.applications.vgg19 import VGG19\n",
    "from tensorflow.keras.applications.inception_v3 import InceptionV3\n",
    "from tensorflow.keras.preprocessing import image\n",
    "from tensorflow.keras.applications.vgg19 import preprocess_input\n",
    "from tensorflow.keras.models import Model\n",
    "import tensorflow as tf"
   ]
  },
  {
   "cell_type": "code",
   "execution_count": 2,
   "metadata": {},
   "outputs": [],
   "source": [
    "# import the necessary packages \n",
    "from tensorflow.keras.layers import Input\n",
    "\n",
    "# Normal libraries\n",
    "import pandas as pd\n",
    "import numpy as np\n",
    "import os\n",
    "import shutil\n",
    "\n",
    "# pickle\n",
    "import pickle as pk\n",
    "#import cv2\n",
    "\n",
    "#\n",
    "from IPython.display import Image\n",
    "\n",
    "# visualization libraries\n",
    "import matplotlib.pyplot as plt\n",
    "\n",
    "# sklearn libraries\n",
    "from sklearn.pipeline import Pipeline\n",
    "from sklearn.preprocessing import OneHotEncoder\n",
    "from sklearn.model_selection import train_test_split\n",
    "\n",
    "# sklearn tensorflow.keras  libraries\n",
    "from tensorflow.keras.models  import Sequential, load_model\n",
    "from tensorflow.keras  import layers\n",
    "from tensorflow.keras.callbacks import EarlyStopping, ModelCheckpoint\n",
    "from tensorflow.keras.metrics import binary_crossentropy, categorical_crossentropy\n",
    "from tensorflow.keras import optimizers\n",
    "\n"
   ]
  },
  {
   "cell_type": "code",
   "execution_count": 3,
   "metadata": {},
   "outputs": [],
   "source": [
    "import tensorflow as tf\n",
    "import numpy as np\n",
    "from tensorflow.keras import models\n",
    "from tensorflow.keras import Sequential, layers\n",
    "from tensorflow.keras import optimizers\n",
    "from tensorflow.keras import callbacks\n",
    "from tensorflow.keras.layers import Reshape\n",
    "from tensorflow.keras.models import Sequential\n",
    "from tensorflow.keras.layers import Dense, Reshape\n",
    "from tensorflow.keras.utils import to_categorical\n",
    "\n"
   ]
  },
  {
   "cell_type": "markdown",
   "metadata": {},
   "source": []
  },
  {
   "cell_type": "code",
   "execution_count": 4,
   "metadata": {},
   "outputs": [
    {
     "data": {
      "text/plain": [
       "(161, 2)"
      ]
     },
     "execution_count": 4,
     "metadata": {},
     "output_type": "execute_result"
    }
   ],
   "source": [
    "data_class_df = pd.read_csv('/Users/amateos88/code/vivekptl9/Anaemia_Classification/sample_dataset/sickle_slides_new_march.txt')\n",
    "data_class_df.shape"
   ]
  },
  {
   "cell_type": "code",
   "execution_count": 5,
   "metadata": {},
   "outputs": [],
   "source": [
    "with open('/Users/amateos88/Desktop/Anaemia/pictures_array.npy', 'rb') as f:\n",
    "    images = np.load(f)"
   ]
  },
  {
   "cell_type": "code",
   "execution_count": 6,
   "metadata": {},
   "outputs": [],
   "source": [
    "with open('/Users/amateos88/Desktop/Anaemia/labels_array.npy', 'rb') as f:\n",
    "    labels = np.load(f)"
   ]
  },
  {
   "cell_type": "code",
   "execution_count": 7,
   "metadata": {},
   "outputs": [],
   "source": [
    "X_train, X_test, y_train, y_test = train_test_split(images, labels, test_size=0.3)"
   ]
  },
  {
   "cell_type": "code",
   "execution_count": 8,
   "metadata": {},
   "outputs": [
    {
     "name": "stdout",
     "output_type": "stream",
     "text": [
      "Metal device set to: Apple M1 Pro\n",
      "\n",
      "systemMemory: 16.00 GB\n",
      "maxCacheSize: 5.33 GB\n",
      "\n",
      "Model: \"sequential\"\n",
      "_________________________________________________________________\n",
      " Layer (type)                Output Shape              Param #   \n",
      "=================================================================\n",
      " conv2d (Conv2D)             (None, 224, 224, 32)      896       \n",
      "                                                                 \n",
      " max_pooling2d (MaxPooling2D  (None, 112, 112, 32)     0         \n",
      " )                                                               \n",
      "                                                                 \n",
      " conv2d_1 (Conv2D)           (None, 112, 112, 64)      18496     \n",
      "                                                                 \n",
      " max_pooling2d_1 (MaxPooling  (None, 56, 56, 64)       0         \n",
      " 2D)                                                             \n",
      "                                                                 \n",
      " conv2d_2 (Conv2D)           (None, 56, 56, 32)        18464     \n",
      "                                                                 \n",
      " max_pooling2d_2 (MaxPooling  (None, 28, 28, 32)       0         \n",
      " 2D)                                                             \n",
      "                                                                 \n",
      " flatten (Flatten)           (None, 25088)             0         \n",
      "                                                                 \n",
      " dense (Dense)               (None, 64)                1605696   \n",
      "                                                                 \n",
      " dense_1 (Dense)             (None, 1)                 65        \n",
      "                                                                 \n",
      "=================================================================\n",
      "Total params: 1,643,617\n",
      "Trainable params: 1,643,617\n",
      "Non-trainable params: 0\n",
      "_________________________________________________________________\n"
     ]
    },
    {
     "name": "stderr",
     "output_type": "stream",
     "text": [
      "2022-09-02 16:26:50.978521: I tensorflow/core/platform/cpu_feature_guard.cc:151] This TensorFlow binary is optimized with oneAPI Deep Neural Network Library (oneDNN) to use the following CPU instructions in performance-critical operations:  SSE4.2\n",
      "To enable them in other operations, rebuild TensorFlow with the appropriate compiler flags.\n",
      "2022-09-02 16:26:50.979353: I tensorflow/core/common_runtime/pluggable_device/pluggable_device_factory.cc:305] Could not identify NUMA node of platform GPU ID 0, defaulting to 0. Your kernel may not have been built with NUMA support.\n",
      "2022-09-02 16:26:50.980004: I tensorflow/core/common_runtime/pluggable_device/pluggable_device_factory.cc:271] Created TensorFlow device (/job:localhost/replica:0/task:0/device:GPU:0 with 0 MB memory) -> physical PluggableDevice (device: 0, name: METAL, pci bus id: <undefined>)\n"
     ]
    }
   ],
   "source": [
    "model = Sequential()\n",
    "model.add(layers.Conv2D(32, (3,3), input_shape=(224, 224, 3), padding='same', activation=\"relu\"))\n",
    "model.add(layers.MaxPool2D(pool_size=(2,2)))\n",
    "model.add(layers.Conv2D(64, (3,3), padding='same', activation=\"relu\"))\n",
    "model.add(layers.MaxPool2D(pool_size=(2,2)))\n",
    "model.add(layers.Conv2D(32, (3,3), padding='same', activation=\"relu\"))\n",
    "model.add(layers.MaxPool2D(pool_size=(2,2)))\n",
    "# model.add(layers.Conv2D(128, (3,3), padding='same', activation=\"relu\"))\n",
    "# model.add(layers.MaxPool2D(pool_size=(2,2)))\n",
    "# model.add(layers.Conv2D(1024, (2,2), padding='same', activation=\"relu\"))\n",
    "# model.add(layers.MaxPool2D(pool_size=(2,2)))\n",
    "# model.add(layers.Conv2D(1024, (5,5), padding='same', activation=\"sigmoid\"))\n",
    "# model.add(layers.MaxPool2D(pool_size=(2,2)))\n",
    "# model.add(layers.Conv2D(256, (2,2), padding='same', activation=\"relu\"))\n",
    "# model.add(layers.MaxPool2D(pool_size=(2,2)))\n",
    "# model.add(layers.Conv2D(512, (5,5), padding='same', activation=\"relu\"))\n",
    "# model.add(layers.MaxPool2D(pool_size=(2,2)))\n",
    "# model.add(layers.Conv2D(32, (2,2), padding='same', activation=\"relu\"))\n",
    "# model.add(layers.MaxPool2D(pool_size=(2,2)))\n",
    "# model.add(layers.Conv2D(128, (2,2), padding='same', activation=\"relu\"))\n",
    "# model.add(layers.MaxPool2D(pool_size=(2,2))) \n",
    "# model.add(layers.Conv2D(1024, (2,2), padding='same', activation=\"relu\"))\n",
    "# model.add(layers.MaxPool2D(pool_size=(2,2))) \n",
    "model.add(layers.Flatten())\n",
    "model.add(layers.Dense(64, activation='relu')) # intermediate layer\n",
    "model.add(layers.Dense(1, activation='sigmoid'))\n",
    "model.summary()"
   ]
  },
  {
   "cell_type": "code",
   "execution_count": 9,
   "metadata": {},
   "outputs": [],
   "source": [
    "adam_opt = optimizers.Adam(learning_rate=0.0001, beta_1=0.9, beta_2=0.99)\n",
    "model.compile(loss ='binary_crossentropy',\n",
    "              optimizer = adam_opt, #'adam', # adam_opt,\n",
    "              metrics = [tf.keras.metrics.BinaryAccuracy()])"
   ]
  },
  {
   "cell_type": "code",
   "execution_count": 10,
   "metadata": {},
   "outputs": [
    {
     "name": "stdout",
     "output_type": "stream",
     "text": [
      "Epoch 1/40\n"
     ]
    },
    {
     "name": "stderr",
     "output_type": "stream",
     "text": [
      "2022-09-02 16:26:51.882462: I tensorflow/core/grappler/optimizers/custom_graph_optimizer_registry.cc:113] Plugin optimizer for device_type GPU is enabled.\n"
     ]
    },
    {
     "name": "stdout",
     "output_type": "stream",
     "text": [
      "132/132 [==============================] - ETA: 0s - loss: 0.6855 - binary_accuracy: 0.5975"
     ]
    },
    {
     "name": "stderr",
     "output_type": "stream",
     "text": [
      "2022-09-02 16:26:56.481027: I tensorflow/core/grappler/optimizers/custom_graph_optimizer_registry.cc:113] Plugin optimizer for device_type GPU is enabled.\n"
     ]
    },
    {
     "name": "stdout",
     "output_type": "stream",
     "text": [
      "132/132 [==============================] - 6s 38ms/step - loss: 0.6855 - binary_accuracy: 0.5975 - val_loss: 0.6928 - val_binary_accuracy: 0.6084\n",
      "Epoch 2/40\n",
      "132/132 [==============================] - 5s 35ms/step - loss: 0.6925 - binary_accuracy: 0.6013 - val_loss: 0.6921 - val_binary_accuracy: 0.6084\n",
      "Epoch 3/40\n",
      "132/132 [==============================] - 4s 32ms/step - loss: 0.6918 - binary_accuracy: 0.6013 - val_loss: 0.6914 - val_binary_accuracy: 0.6084\n",
      "Epoch 4/40\n",
      "132/132 [==============================] - 4s 31ms/step - loss: 0.6912 - binary_accuracy: 0.6013 - val_loss: 0.6908 - val_binary_accuracy: 0.6084\n",
      "Epoch 5/40\n",
      "132/132 [==============================] - 4s 32ms/step - loss: 0.6906 - binary_accuracy: 0.6013 - val_loss: 0.6901 - val_binary_accuracy: 0.6084\n",
      "Epoch 6/40\n",
      "132/132 [==============================] - 4s 31ms/step - loss: 0.6901 - binary_accuracy: 0.6013 - val_loss: 0.6895 - val_binary_accuracy: 0.6084\n",
      "Epoch 7/40\n",
      "132/132 [==============================] - 4s 31ms/step - loss: 0.6895 - binary_accuracy: 0.6013 - val_loss: 0.6889 - val_binary_accuracy: 0.6084\n",
      "Epoch 8/40\n",
      "132/132 [==============================] - 4s 31ms/step - loss: 0.6889 - binary_accuracy: 0.6013 - val_loss: 0.6883 - val_binary_accuracy: 0.6084\n",
      "Epoch 9/40\n",
      "132/132 [==============================] - 4s 31ms/step - loss: 0.6884 - binary_accuracy: 0.6013 - val_loss: 0.6878 - val_binary_accuracy: 0.6084\n",
      "Epoch 10/40\n",
      "132/132 [==============================] - 4s 31ms/step - loss: 0.6879 - binary_accuracy: 0.6013 - val_loss: 0.6872 - val_binary_accuracy: 0.6084\n",
      "Epoch 11/40\n",
      "132/132 [==============================] - 4s 31ms/step - loss: 0.6874 - binary_accuracy: 0.6013 - val_loss: 0.6867 - val_binary_accuracy: 0.6084\n",
      "Epoch 12/40\n",
      "132/132 [==============================] - 4s 31ms/step - loss: 0.6869 - binary_accuracy: 0.6013 - val_loss: 0.6862 - val_binary_accuracy: 0.6084\n",
      "Epoch 13/40\n",
      "132/132 [==============================] - 4s 32ms/step - loss: 0.6865 - binary_accuracy: 0.6013 - val_loss: 0.6857 - val_binary_accuracy: 0.6084\n",
      "Epoch 14/40\n",
      "132/132 [==============================] - 4s 31ms/step - loss: 0.6860 - binary_accuracy: 0.6013 - val_loss: 0.6852 - val_binary_accuracy: 0.6084\n",
      "Epoch 15/40\n",
      "132/132 [==============================] - 4s 32ms/step - loss: 0.6856 - binary_accuracy: 0.6013 - val_loss: 0.6847 - val_binary_accuracy: 0.6084\n",
      "Epoch 16/40\n",
      "132/132 [==============================] - 4s 31ms/step - loss: 0.6851 - binary_accuracy: 0.6013 - val_loss: 0.6843 - val_binary_accuracy: 0.6084\n",
      "Epoch 17/40\n",
      "132/132 [==============================] - 4s 31ms/step - loss: 0.6847 - binary_accuracy: 0.6013 - val_loss: 0.6838 - val_binary_accuracy: 0.6084\n",
      "Epoch 18/40\n",
      "132/132 [==============================] - 4s 31ms/step - loss: 0.6843 - binary_accuracy: 0.6013 - val_loss: 0.6833 - val_binary_accuracy: 0.6084\n",
      "Epoch 19/40\n",
      "132/132 [==============================] - 4s 31ms/step - loss: 0.6839 - binary_accuracy: 0.6013 - val_loss: 0.6829 - val_binary_accuracy: 0.6084\n",
      "Epoch 20/40\n",
      "132/132 [==============================] - 4s 31ms/step - loss: 0.6835 - binary_accuracy: 0.6013 - val_loss: 0.6825 - val_binary_accuracy: 0.6084\n",
      "Epoch 21/40\n",
      "132/132 [==============================] - 4s 31ms/step - loss: 0.6831 - binary_accuracy: 0.6013 - val_loss: 0.6821 - val_binary_accuracy: 0.6084\n",
      "Epoch 22/40\n",
      "132/132 [==============================] - 4s 32ms/step - loss: 0.6828 - binary_accuracy: 0.6013 - val_loss: 0.6817 - val_binary_accuracy: 0.6084\n",
      "Epoch 23/40\n",
      "132/132 [==============================] - 4s 31ms/step - loss: 0.6824 - binary_accuracy: 0.6013 - val_loss: 0.6813 - val_binary_accuracy: 0.6084\n",
      "Epoch 24/40\n",
      "132/132 [==============================] - 4s 30ms/step - loss: 0.6821 - binary_accuracy: 0.6013 - val_loss: 0.6810 - val_binary_accuracy: 0.6084\n",
      "Epoch 25/40\n",
      "132/132 [==============================] - 4s 32ms/step - loss: 0.6818 - binary_accuracy: 0.6013 - val_loss: 0.6806 - val_binary_accuracy: 0.6084\n",
      "Epoch 26/40\n",
      "132/132 [==============================] - 4s 31ms/step - loss: 0.6814 - binary_accuracy: 0.6013 - val_loss: 0.6803 - val_binary_accuracy: 0.6084\n",
      "Epoch 27/40\n",
      "132/132 [==============================] - 4s 31ms/step - loss: 0.6812 - binary_accuracy: 0.6013 - val_loss: 0.6800 - val_binary_accuracy: 0.6084\n",
      "Epoch 28/40\n",
      "132/132 [==============================] - 4s 32ms/step - loss: 0.6809 - binary_accuracy: 0.6013 - val_loss: 0.6796 - val_binary_accuracy: 0.6084\n",
      "Epoch 29/40\n",
      "132/132 [==============================] - 4s 32ms/step - loss: 0.6806 - binary_accuracy: 0.6013 - val_loss: 0.6793 - val_binary_accuracy: 0.6084\n",
      "Epoch 30/40\n",
      "132/132 [==============================] - 4s 32ms/step - loss: 0.6803 - binary_accuracy: 0.6013 - val_loss: 0.6790 - val_binary_accuracy: 0.6084\n",
      "Epoch 31/40\n",
      "132/132 [==============================] - 5s 35ms/step - loss: 0.6800 - binary_accuracy: 0.6013 - val_loss: 0.6787 - val_binary_accuracy: 0.6084\n",
      "Epoch 32/40\n",
      "132/132 [==============================] - 5s 34ms/step - loss: 0.6797 - binary_accuracy: 0.6013 - val_loss: 0.6784 - val_binary_accuracy: 0.6084\n",
      "Epoch 33/40\n",
      "132/132 [==============================] - 4s 34ms/step - loss: 0.6794 - binary_accuracy: 0.6013 - val_loss: 0.6781 - val_binary_accuracy: 0.6084\n",
      "Epoch 34/40\n",
      "132/132 [==============================] - 4s 32ms/step - loss: 0.6792 - binary_accuracy: 0.6013 - val_loss: 0.6778 - val_binary_accuracy: 0.6084\n",
      "Epoch 35/40\n",
      "132/132 [==============================] - 5s 35ms/step - loss: 0.6790 - binary_accuracy: 0.6013 - val_loss: 0.6776 - val_binary_accuracy: 0.6084\n",
      "Epoch 36/40\n",
      "132/132 [==============================] - 4s 32ms/step - loss: 0.6788 - binary_accuracy: 0.6013 - val_loss: 0.6773 - val_binary_accuracy: 0.6084\n",
      "Epoch 37/40\n",
      "132/132 [==============================] - 4s 31ms/step - loss: 0.6785 - binary_accuracy: 0.6013 - val_loss: 0.6771 - val_binary_accuracy: 0.6084\n",
      "Epoch 38/40\n",
      "132/132 [==============================] - 4s 31ms/step - loss: 0.6783 - binary_accuracy: 0.6013 - val_loss: 0.6768 - val_binary_accuracy: 0.6084\n",
      "Epoch 39/40\n",
      "132/132 [==============================] - 4s 30ms/step - loss: 0.6781 - binary_accuracy: 0.6013 - val_loss: 0.6766 - val_binary_accuracy: 0.6084\n",
      "Epoch 40/40\n",
      "132/132 [==============================] - 4s 32ms/step - loss: 0.6779 - binary_accuracy: 0.6013 - val_loss: 0.6764 - val_binary_accuracy: 0.6084\n"
     ]
    }
   ],
   "source": [
    "es = callbacks.EarlyStopping(patience=15, restore_best_weights=True)\n",
    "\n",
    "history = model.fit(X_train, y_train,\n",
    "                    epochs=40,  # Use early stopping in practice\n",
    "                    batch_size=8, \n",
    "                    validation_split = 0.2,\n",
    "                    shuffle= True,\n",
    "                    callbacks=[es],\n",
    "                    verbose=1)"
   ]
  },
  {
   "cell_type": "code",
   "execution_count": null,
   "metadata": {},
   "outputs": [],
   "source": []
  },
  {
   "cell_type": "code",
   "execution_count": 11,
   "metadata": {},
   "outputs": [
    {
     "name": "stdout",
     "output_type": "stream",
     "text": [
      "18/18 [==============================] - 1s 35ms/step - loss: 0.6732 - binary_accuracy: 0.6241\n"
     ]
    },
    {
     "data": {
      "text/plain": [
       "[0.6732177138328552, 0.6241135001182556]"
      ]
     },
     "execution_count": 11,
     "metadata": {},
     "output_type": "execute_result"
    }
   ],
   "source": [
    "model.evaluate(X_test, y_test)"
   ]
  },
  {
   "cell_type": "code",
   "execution_count": 12,
   "metadata": {},
   "outputs": [
    {
     "ename": "KeyError",
     "evalue": "'accuracy'",
     "output_type": "error",
     "traceback": [
      "\u001b[0;31m---------------------------------------------------------------------------\u001b[0m",
      "\u001b[0;31mKeyError\u001b[0m                                  Traceback (most recent call last)",
      "\u001b[1;32m/Users/amateos88/code/vivekptl9/Anaemia_Classification/notebooks/unet_keras.ipynb Cell 14\u001b[0m in \u001b[0;36m<cell line: 1>\u001b[0;34m()\u001b[0m\n\u001b[0;32m----> <a href='vscode-notebook-cell:/Users/amateos88/code/vivekptl9/Anaemia_Classification/notebooks/unet_keras.ipynb#X54sZmlsZQ%3D%3D?line=0'>1</a>\u001b[0m plt\u001b[39m.\u001b[39mplot(history\u001b[39m.\u001b[39;49mhistory[\u001b[39m'\u001b[39;49m\u001b[39maccuracy\u001b[39;49m\u001b[39m'\u001b[39;49m])\n\u001b[1;32m      <a href='vscode-notebook-cell:/Users/amateos88/code/vivekptl9/Anaemia_Classification/notebooks/unet_keras.ipynb#X54sZmlsZQ%3D%3D?line=1'>2</a>\u001b[0m plt\u001b[39m.\u001b[39mplot(history\u001b[39m.\u001b[39mhistory[\u001b[39m'\u001b[39m\u001b[39mval_accuracy\u001b[39m\u001b[39m'\u001b[39m])\n\u001b[1;32m      <a href='vscode-notebook-cell:/Users/amateos88/code/vivekptl9/Anaemia_Classification/notebooks/unet_keras.ipynb#X54sZmlsZQ%3D%3D?line=2'>3</a>\u001b[0m plt\u001b[39m.\u001b[39mtitle(\u001b[39m'\u001b[39m\u001b[39mmodel accuracy\u001b[39m\u001b[39m'\u001b[39m)\n",
      "\u001b[0;31mKeyError\u001b[0m: 'accuracy'"
     ]
    }
   ],
   "source": [
    "plt.plot(history.history['accuracy'])\n",
    "plt.plot(history.history['val_accuracy'])\n",
    "plt.title('model accuracy')\n",
    "plt.ylabel('val_accuracy')\n",
    "plt.xlabel('epoch')\n",
    "plt.legend(['train', 'val'], loc='upper left')\n",
    "plt.show()"
   ]
  },
  {
   "cell_type": "code",
   "execution_count": null,
   "metadata": {},
   "outputs": [
    {
     "data": {
      "image/png": "[encoded data removed]",
      "text/plain": [
       "<Figure size 640x480 with 1 Axes>"
      ]
     },
     "metadata": {},
     "output_type": "display_data"
    }
   ],
   "source": [
    "plt.plot(history.history['loss'])\n",
    "plt.plot(history.history['val_loss'])\n",
    "plt.title('model loss')\n",
    "plt.ylabel('loss')\n",
    "plt.xlabel('epoch')\n",
    "plt.legend(['train', 'val'], loc='upper left')\n",
    "plt.show()"
   ]
  }
 ],
 "metadata": {
  "kernelspec": {
   "display_name": "Python 3.8.12 64-bit ('sandbox')",
   "language": "python",
   "name": "python3"
  },
  "language_info": {
   "codemirror_mode": {
    "name": "ipython",
    "version": 3
   },
   "file_extension": ".py",
   "mimetype": "text/x-python",
   "name": "python",
   "nbconvert_exporter": "python",
   "pygments_lexer": "ipython3",
   "version": "3.8.12"
  },
  "orig_nbformat": 4,
  "vscode": {
   "interpreter": {
    "hash": "e128b2349d8485042424f60aaff86ce226a9103b394bcb28bc49d47e57de75ff"
   }
  }
 },
 "nbformat": 4,
 "nbformat_minor": 2
}
